{
 "cells": [
  {
   "cell_type": "markdown",
   "id": "bf6cee51",
   "metadata": {},
   "source": [
    "1. In the below elements which of them are values or an expression? eg:- values can be integer or string and expressions will be mathematical operators.\n",
    "\n",
    "> 'hello'   value\n",
    "\n",
    ">  -87.8    value\n",
    "\n",
    ">    -      expression\n",
    "\n",
    ">   /       expression\n",
    "\n",
    ">   +      expression\n",
    "\n",
    ">   6         value"
   ]
  },
  {
   "cell_type": "markdown",
   "id": "872baf9a",
   "metadata": {},
   "source": [
    "2 What is the difference between string and variable?\n",
    "\n",
    "> A string one of the datatypes in python that is used to store characters,numbers,spaces etc.but it should start and end \n",
    "with a \" single or double quote \" and any data with the quotes at start and end is as a string datatype\n",
    "\n",
    "> A variable is like a place named box it can store information and can be accessed by calling the name, it can stored in primary memory "
   ]
  },
  {
   "cell_type": "markdown",
   "id": "c95a07ab",
   "metadata": {},
   "source": [
    "3 Describe three different data types.\n",
    "\n",
    "    - Integers they can be positve,negative or zero and cannot be fractional\n",
    "    - float   they contain fractional or decimal points\n",
    "    - complex they contain a real and imaginary part\n",
    "    - string contains a collection of characters enclosed with in double or single quotes\n",
    "    - list is a collection of data enclosed between [ ]"
   ]
  },
  {
   "cell_type": "markdown",
   "id": "6761f090",
   "metadata": {},
   "source": [
    "4 What is an expression made up of? What do all expressions do?\n",
    "> it is a combination of values,varibles and operators,evaluating an expression returns a value"
   ]
  },
  {
   "cell_type": "markdown",
   "id": "d67fe1ef",
   "metadata": {},
   "source": [
    "5. This assignment statements, like spam = 10. What is the difference between an\n",
    "    expression and a statement?\n",
    "    \n",
    "> expression is a combination of values and a statement is a action or a command"
   ]
  },
  {
   "cell_type": "markdown",
   "id": "0f0fba86",
   "metadata": {},
   "source": [
    "6. After running the following code, what does the variable bacon contain?\n",
    "- bacon = 22\n",
    "- bacon + 1\n",
    "> the value of bacon changes to 23"
   ]
  },
  {
   "cell_type": "code",
   "execution_count": 7,
   "id": "572ee1bc",
   "metadata": {},
   "outputs": [
    {
     "name": "stdout",
     "output_type": "stream",
     "text": [
      "23\n"
     ]
    }
   ],
   "source": [
    "bacon = 22\n",
    "bacon += 1\n",
    "print(bacon)"
   ]
  },
  {
   "cell_type": "markdown",
   "id": "48040968",
   "metadata": {},
   "source": [
    "7. What should the values of the following two terms be?\n",
    "> &#39;spam&#39; + &#39;spamspam&#39; = spamspamspam\n",
    "\n",
    "> &#39;spam&#39; * 3 = spamspamspam"
   ]
  },
  {
   "cell_type": "markdown",
   "id": "fe05c732",
   "metadata": {},
   "source": [
    "8. Why is eggs a valid variable name while 100 is invalid?\n",
    "\n",
    "> In python the varible name must start with a letter between A - Z and underscore and not with any other characters but we\n",
    "can include other characters after first letter"
   ]
  },
  {
   "cell_type": "markdown",
   "id": "7423200c",
   "metadata": {},
   "source": [
    "9.What three functions can be used to get the integer, floating-point number, or string\n",
    "version of a value?\n",
    "\n",
    "> we can use int() , float() , str() to get integer, floating point number and string"
   ]
  },
  {
   "cell_type": "markdown",
   "id": "21df4b7a",
   "metadata": {},
   "source": [
    "10. Why does this expression cause an error? How can you fix it?\n",
    "&#39;I have eaten &#39; + 99 + &#39; burritos.&#39;\n",
    "\n",
    "> we cannot concatenate a string with a float or a integer but we can convert the floating point number or integer to string using str() function\n",
    "\n",
    "1. &#39;I have eaten &#39; + str(99) + &#39; burritos.&#39;\n",
    "\n",
    "2. &#39;I have eaten &#39; + '99' + &#39; burritos.&#39;"
   ]
  },
  {
   "cell_type": "code",
   "execution_count": null,
   "id": "7ca32a60",
   "metadata": {},
   "outputs": [],
   "source": []
  }
 ],
 "metadata": {
  "kernelspec": {
   "display_name": "Python 3 (ipykernel)",
   "language": "python",
   "name": "python3"
  },
  "language_info": {
   "codemirror_mode": {
    "name": "ipython",
    "version": 3
   },
   "file_extension": ".py",
   "mimetype": "text/x-python",
   "name": "python",
   "nbconvert_exporter": "python",
   "pygments_lexer": "ipython3",
   "version": "3.9.7"
  }
 },
 "nbformat": 4,
 "nbformat_minor": 5
}
