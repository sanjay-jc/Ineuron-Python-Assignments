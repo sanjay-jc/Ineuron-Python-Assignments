{
 "cells": [
  {
   "cell_type": "markdown",
   "id": "7adc8d11",
   "metadata": {},
   "source": [
    "1.What are the two values of the Boolean data type? How do you write them?\n",
    "\n",
    "> In python the Boolean data type represents two values ie, True and False, it must start the capital T & F else it throws an error"
   ]
  },
  {
   "cell_type": "markdown",
   "id": "bf52472b",
   "metadata": {},
   "source": [
    "2.What are the three different types of Boolean operators?\n",
    "\n",
    "> The three basic Boolean operator in python is and, or , not"
   ]
  },
  {
   "cell_type": "markdown",
   "id": "b36e86b0",
   "metadata": {},
   "source": [
    "3. Make a list of each Boolean operator&#39;s truth tables (i.e. every possible combination of Boolean\n",
    "values for the operator and what it evaluate ).\n",
    
    "#### AND truth table\n",
    "\n",
    ">True\tand\tTrue\tTrue\n",
    "\n",
    ">True\tand\tFalse\tFalse\n",
    "    \n",
    ">False\tand\tTrue\tFalse\n",
    "\n",
    "> False\tand\tFalse\tFalse"
   ]
  },
  {
   "cell_type": "markdown",
   "id": "c54c8628",
   "metadata": {},
   "source": [
    "#### OR truth table\n",
    "\n",
    ">True\tor\tTrue\tTrue\n",
    "\n",
    ">True\tor\tFalse\tTrue\n",
    "\n",
    ">False\tor\tTrue\tTrue\n",
    "\n",
    ">False\tor\tFalse\tFalse"
   ]
  },
  {
   "cell_type": "markdown",
   "id": "d85ab980",
   "metadata": {},
   "source": [
    "#### NOT truth table\n",
    "\n",
    ">not\tTrue\tFalse\n",
    "\n",
    ">not\tFalse\tTrue"
   ]
  },
  {
   "cell_type": "markdown",
   "id": "8819cfd8",
   "metadata": {},
   "source": [
    "4. What are the values of the following expressions?\n",
    "\n",
    "> (5 &gt; 4) and (3 == 5) >>> False\n",
    "\n",
    "> not (5>4)  >>> False\n",
    "\n",
    "> (5 > 4) or (3 == 5) >>> True\n",
    "\n",
    "> not ((5 > 4) or (3 == 5)) >>> False\n",
    "\n",
    "> (True and True) and (True == False) >>> False\n",
    "\n",
    "> (not False) or (not True) >>> True"
   ]
  },
  {
   "cell_type": "markdown",
   "id": "56b88368",
   "metadata": {},
   "source": [
    "5. What are the six comparison operators?\n",
    "\n",
    "#### ==\tEqual to\n",
    "#### !=\tNot equal to\n",
    "#### <\tLess than\n",
    "#### >\tGreater than\n",
    "#### <=\tLess than or equal to\n",
    "#### >=\tGreater than or equal to\n"
   ]
  },
  {
   "cell_type": "markdown",
   "id": "66fab710",
   "metadata": {},
   "source": [
    "6. How do you tell the difference between the equal to and assignment operators?Describe a\n",
    "condition and when you would use one.\n",
    "\n",
    "- The equal operator assigns a value and the assignment operator compares the two operands and returns True or False\n",
    "- When we assign a value to a varible we use equal to operator eg: value_1 = 5, value_2 = 5\n",
    "- When we need to compare the values in the two operands we use value_1 == value_2, it returns True"
   ]
  },
  {
   "cell_type": "markdown",
   "id": "2957f37b",
   "metadata": {},
   "source": [
    "7. Identify the three blocks in this code:\n",
    "\n",
    ">spam = 0\n",
    "\n",
    "###### block 1\n",
    ">if spam == 10:\n",
    "  >>print(&#39;eggs&#39;)\n",
    "###### block 2\n",
    ">if spam &gt; 5:\n",
    ">>print(&#39;bacon&#39;)\n",
    "###### block 3\n",
    ">else:\n",
    "\n",
    "    >>print('ham')\n",
    "\n",
    "    >>print('spam')\n",
    "\n",
    "    >>print('spam')"
   ]
  },
  {
   "cell_type": "markdown",
   "id": "6249c8a0",
   "metadata": {},
   "source": [
    "8. Write code that prints Hello if 1 is stored in spam, prints Howdy if 2 is stored in spam, and prints\n",
    "Greetings! if anything else is stored in spam."
   ]
  },
  {
   "cell_type": "code",
   "execution_count": 65,
   "id": "af0c85e3",
   "metadata": {},
   "outputs": [
    {
     "name": "stdout",
     "output_type": "stream",
     "text": [
      "1\n",
      "Hello\n"
     ]
    }
   ],
   "source": [
    "spam = int(input())\n",
    "\n",
    "if spam == 1:\n",
    "    print('Hello')\n",
    "elif spam == 2:\n",
    "    print('Howdy')\n",
    "else:\n",
    "    print('Greetings!')\n"
   ]
  },
  {
   "cell_type": "markdown",
   "id": "9d3b0e93",
   "metadata": {},
   "source": [
    "9.If your programme is stuck in an endless loop, what keys you’ll press?\n",
    "\n",
    "> ctrl + c to terminate the infnite loop"
   ]
  },
  {
   "cell_type": "markdown",
   "id": "ba881f06",
   "metadata": {},
   "source": [
    "10. How can you tell the difference between break and continue?\n",
    "\n",
    "> break is used to terminate the loop and the rest of the code is not executed once the condition occurs\n",
    "\n",
    "\n",
    "> continue skips the rest of the code for the current iteration if  condition is true"
   ]
  },
  {
   "cell_type": "code",
   "execution_count": 57,
   "id": "816b4f96",
   "metadata": {},
   "outputs": [
    {
     "name": "stdout",
     "output_type": "stream",
     "text": [
      "P\n",
      "y\n",
      "t\n",
      "Done\n"
     ]
    }
   ],
   "source": [
    "# example of break \n",
    "\n",
    "for i in 'Python':\n",
    "    if i == 'h':  # when i == h the loop breaks and exit the loop\n",
    "        break\n",
    "    print(i)\n",
    "print('Done')   "
   ]
  },
  {
   "cell_type": "code",
   "execution_count": 58,
   "id": "7013b315",
   "metadata": {},
   "outputs": [
    {
     "name": "stdout",
     "output_type": "stream",
     "text": [
      "P\n",
      "y\n",
      "t\n",
      "o\n",
      "n\n",
      "Done\n"
     ]
    }
   ],
   "source": [
    "# example of continue \n",
    "\n",
    "for i in 'Python':\n",
    "    if i == 'h': # when i == h the entire rest of code is skipped for current iteration \n",
    "        continue\n",
    "    print(i)\n",
    "print('Done')"
   ]
  },
  {
   "cell_type": "markdown",
   "id": "f827d2b2",
   "metadata": {},
   "source": [
    "11. In a for loop, what is the difference between range(10), range(0, 10), and range(0, 10, 1)?\n",
    "\n",
    "> In range the three arguments that we provide are the start(inclusive), stop(exclusive), step\n",
    "\n",
    "> range(10) start from 0 to 9\n",
    "\n",
    "> range(0,10) start from 0 to 9\n",
    "\n",
    "> range(0,10,1) start from 0 to 9 with a step value of 1, by default it is 1\n",
    "\n",
    "- so all the above 3 return the same result"
   ]
  },
  {
   "cell_type": "code",
   "execution_count": 59,
   "id": "113863e4",
   "metadata": {},
   "outputs": [
    {
     "name": "stdout",
     "output_type": "stream",
     "text": [
      "0\n",
      "1\n",
      "2\n",
      "3\n",
      "4\n",
      "5\n",
      "6\n",
      "7\n",
      "8\n",
      "9\n"
     ]
    }
   ],
   "source": [
    "for i in range(10):\n",
    "    print(i)"
   ]
  },
  {
   "cell_type": "code",
   "execution_count": 60,
   "id": "6c0166cc",
   "metadata": {},
   "outputs": [
    {
     "name": "stdout",
     "output_type": "stream",
     "text": [
      "0\n",
      "1\n",
      "2\n",
      "3\n",
      "4\n",
      "5\n",
      "6\n",
      "7\n",
      "8\n",
      "9\n"
     ]
    }
   ],
   "source": [
    "for i in range(0,10):\n",
    "    print(i)"
   ]
  },
  {
   "cell_type": "code",
   "execution_count": 61,
   "id": "d0d4d251",
   "metadata": {},
   "outputs": [
    {
     "name": "stdout",
     "output_type": "stream",
     "text": [
      "0\n",
      "1\n",
      "2\n",
      "3\n",
      "4\n",
      "5\n",
      "6\n",
      "7\n",
      "8\n",
      "9\n"
     ]
    }
   ],
   "source": [
    "for i in range(0,10,1):\n",
    "    print(i)"
   ]
  },
  {
   "cell_type": "markdown",
   "id": "4a906f4c",
   "metadata": {},
   "source": [
    "12. Write a short program that prints the numbers 1 to 10 using a for loop. Then write an equivalent\n",
    "program that prints the numbers 1 to 10 using a while loop."
   ]
  },
  {
   "cell_type": "code",
   "execution_count": 62,
   "id": "a03ec15c",
   "metadata": {},
   "outputs": [
    {
     "name": "stdout",
     "output_type": "stream",
     "text": [
      "1\n",
      "2\n",
      "3\n",
      "4\n",
      "5\n",
      "6\n",
      "7\n",
      "8\n",
      "9\n",
      "10\n"
     ]
    }
   ],
   "source": [
    "for i in range(1,11):\n",
    "    print(i)"
   ]
  },
  {
   "cell_type": "code",
   "execution_count": 63,
   "id": "c828919e",
   "metadata": {},
   "outputs": [
    {
     "name": "stdout",
     "output_type": "stream",
     "text": [
      "1\n",
      "2\n",
      "3\n",
      "4\n",
      "5\n",
      "6\n",
      "7\n",
      "8\n",
      "9\n",
      "10\n"
     ]
    }
   ],
   "source": [
    "i = 1\n",
    "while i <= 10:\n",
    "    print(i)\n",
    "    i += 1"
   ]
  },
  {
   "cell_type": "markdown",
   "id": "50dd69e9",
   "metadata": {},
   "source": [
    "13. If you had a function named bacon() inside a module named spam, how would you call it after\n",
    "importing spam?\n",
    "\n",
    "> After importing a module we use the dot operator to call functions from the module\n",
    "\n"
   ]
  },
  {
   "cell_type": "code",
   "execution_count": 64,
   "id": "8b1e567c",
   "metadata": {},
   "outputs": [
    {
     "name": "stdout",
     "output_type": "stream",
     "text": [
      "4.0\n"
     ]
    }
   ],
   "source": [
    "# Example\n",
    "import math\n",
    "value = 16\n",
    "print(math.sqrt(value))"
   ]
  },
  {
   "cell_type": "code",
   "execution_count": null,
   "id": "37bd49c8",
   "metadata": {},
   "outputs": [],
   "source": []
  }
 ],
 "metadata": {
  "kernelspec": {
   "display_name": "Python 3 (ipykernel)",
   "language": "python",
   "name": "python3"
  },
  "language_info": {
   "codemirror_mode": {
    "name": "ipython",
    "version": 3
   },
   "file_extension": ".py",
   "mimetype": "text/x-python",
   "name": "python",
   "nbconvert_exporter": "python",
   "pygments_lexer": "ipython3",
   "version": "3.9.7"
  }
 },
 "nbformat": 4,
 "nbformat_minor": 5
}
